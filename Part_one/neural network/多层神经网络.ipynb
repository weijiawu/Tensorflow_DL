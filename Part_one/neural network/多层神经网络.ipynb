{
 "cells": [
  {
   "cell_type": "code",
   "execution_count": null,
   "metadata": {},
   "outputs": [],
   "source": [
    "import tensorflow as tf\n",
    "import numpy as np\n",
    "import matplotlib.pyplot as plt\n",
    "\n",
    "tf.set_random_seed(2017)"
   ]
  },
  {
   "cell_type": "code",
   "execution_count": null,
   "metadata": {},
   "outputs": [],
   "source": [
    "def plot_decision_boundary(model, x, y):\n",
    "    # 找到x, y的最大值和最小值, 并在周围填充一个像素\n",
    "    x_min, x_max = x[:, 0].min() - 1, x[:, 0].max() + 1\n",
    "    y_min, y_max = x[:, 1].min() - 1, x[:, 1].max() + 1\n",
    "    h = 0.01\n",
    "    # 构建一个宽度为`h`的网格\n",
    "    xx, yy = np.meshgrid(np.arange(x_min, x_max, h), np.arange(y_min, y_max, h))\n",
    "    # 计算模型在网格上所有点的输出值\n",
    "    Z = model(np.c_[xx.ravel(), yy.ravel()])\n",
    "    Z = Z.reshape(xx.shape)\n",
    "    # 画图显示\n",
    "    plt.contourf(xx, yy, Z, cmap=plt.cm.Spectral)\n",
    "    plt.ylabel('x2')\n",
    "    plt.xlabel('x1')\n",
    "    plt.scatter(x[:, 0], x[:, 1], c=np.squeeze(y), cmap=plt.cm.Spectral)"
   ]
  },
  {
   "cell_type": "code",
   "execution_count": null,
   "metadata": {},
   "outputs": [],
   "source": [
    "np.random.seed(1)\n",
    "m = 400 # 样本数量\n",
    "N = int(m/2) # 每一类的点的个数\n",
    "D = 2 # 维度\n",
    "x = np.zeros((m, D))\n",
    "y = np.zeros((m, 1), dtype='uint8') # label 向量，0 表示红色，1 表示蓝色\n",
    "a = 4\n",
    "\n",
    "for j in range(2):\n",
    "    ix = range(N*j,N*(j+1))\n",
    "    t = np.linspace(j*3.12,(j+1)*3.12,N) + np.random.randn(N)*0.2 # theta\n",
    "    r = a*np.sin(4*t) + np.random.randn(N)*0.2 # radius\n",
    "    x[ix] = np.c_[r*np.sin(t), r*np.cos(t)]\n",
    "    y[ix] = j"
   ]
  },
  {
   "cell_type": "code",
   "execution_count": null,
   "metadata": {},
   "outputs": [],
   "source": [
    "%matplotlib inline\n",
    "\n",
    "plt.scatter(x[:, 0], x[:, 1], c=np.squeeze(y), s=40, cmap=plt.cm.Spectral)"
   ]
  },
  {
   "cell_type": "markdown",
   "metadata": {},
   "source": [
    "我们可以先尝试用`logistic`回归模型来解决这个分类问题"
   ]
  },
  {
   "cell_type": "code",
   "execution_count": null,
   "metadata": {},
   "outputs": [],
   "source": [
    "x = tf.constant(x, dtype=tf.float32, name='x')\n",
    "y = tf.constant(y, dtype=tf.float32, name='y')"
   ]
  },
  {
   "cell_type": "code",
   "execution_count": null,
   "metadata": {},
   "outputs": [],
   "source": [
    "# 定义模型\n",
    "w = tf.get_variable(initializer=tf.random_normal_initializer(), shape=(2, 1), dtype=tf.float32, name='weights')\n",
    "b = tf.get_variable(initializer=tf.zeros_initializer(), shape=(1), dtype=tf.float32, name='bias')\n",
    "\n",
    "def logistic_model(x):\n",
    "    logit = tf.matmul(x, w) + b\n",
    "    \n",
    "    return tf.sigmoid(logit)\n",
    "\n",
    "y_ = logistic_model(x)"
   ]
  },
  {
   "cell_type": "code",
   "execution_count": null,
   "metadata": {},
   "outputs": [],
   "source": [
    "# 构造训练\n",
    "loss = tf.losses.log_loss(predictions=y_, labels=y)\n",
    "\n",
    "lr = 1e-1\n",
    "optimizer = tf.train.GradientDescentOptimizer(learning_rate=lr)\n",
    "train_op = optimizer.minimize(loss)"
   ]
  },
  {
   "cell_type": "code",
   "execution_count": null,
   "metadata": {
    "scrolled": false
   },
   "outputs": [],
   "source": [
    "# 执行训练\n",
    "\n",
    "sess = tf.InteractiveSession()\n",
    "\n",
    "sess.run(tf.global_variables_initializer())\n",
    "\n",
    "for e in range(1000):\n",
    "    sess.run(train_op)\n",
    "    if (e + 1) % 100 == 0:\n",
    "        loss_numpy = loss.eval(session=sess)\n",
    "        print('Epoch %d: Loss: %.12f' % (e + 1, loss_numpy))"
   ]
  },
  {
   "cell_type": "markdown",
   "metadata": {},
   "source": [
    "看上去`loss`并没有下降, 那么我们再来看看模型的效果"
   ]
  },
  {
   "cell_type": "code",
   "execution_count": null,
   "metadata": {},
   "outputs": [],
   "source": [
    "model_input = tf.placeholder(shape=(None, 2), dtype=tf.float32, name='logistic_input')\n",
    "logistic_output = logistic_model(model_input)\n",
    "\n",
    "def plot_logistic(x_data):\n",
    "    y_pred_numpy = sess.run(logistic_output, feed_dict={model_input: x_data})\n",
    "    out = np.greater(y_pred_numpy, 0.5).astype(np.float32)\n",
    "    return np.squeeze(out)"
   ]
  },
  {
   "cell_type": "code",
   "execution_count": null,
   "metadata": {
    "scrolled": true
   },
   "outputs": [],
   "source": [
    "plot_decision_boundary(plot_logistic, x.eval(session=sess), y.eval(session=sess))"
   ]
  },
  {
   "cell_type": "markdown",
   "metadata": {},
   "source": [
    "## 深度神经网络\n",
    "现在我们来尝试搭建一个最简单的深度神经网络"
   ]
  },
  {
   "cell_type": "code",
   "execution_count": null,
   "metadata": {},
   "outputs": [],
   "source": [
    "# 首先构建第一个隐藏层\n",
    "with tf.variable_scope('layer1'):\n",
    "    \n",
    "    # 构建参数weight\n",
    "    w1 = tf.get_variable(initializer=tf.random_normal_initializer(stddev=0.01), shape=(2, 4), name='weights1')\n",
    "    \n",
    "    # 构建参数bias\n",
    "    b1 = tf.get_variable(initializer=tf.zeros_initializer(), shape=(4), name='bias1')\n",
    "    \n",
    "# 同样地, 我们再构建第二个隐藏层\n",
    "with tf.variable_scope('layer2'):\n",
    "    w2 = tf.get_variable(initializer=tf.random_normal_initializer(stddev=0.01), shape=(4, 1), name='weights2')\n",
    "    b2 = tf.get_variable(initializer=tf.zeros_initializer(), shape=(1), name='bias2')\n",
    "    \n",
    "# 通过上面的参数构建一个两层的神经网络\n",
    "def two_network(nn_input):\n",
    "    with tf.variable_scope('two_network'):\n",
    "        # 第一个隐藏层\n",
    "        net = tf.matmul(nn_input, w1) + b1\n",
    "        # tanh 激活层\n",
    "        net = tf.tanh(net)\n",
    "        # 第一个隐藏层\n",
    "        net = tf.matmul(net, w2) + b2\n",
    "        \n",
    "        # 经过 sigmoid 得到输出\n",
    "        return tf.sigmoid(net)\n",
    "    \n",
    "net = two_network(x)"
   ]
  },
  {
   "cell_type": "code",
   "execution_count": null,
   "metadata": {},
   "outputs": [],
   "source": [
    "# 构建神经网络的训练过程\n",
    "loss_two = tf.losses.log_loss(predictions=net, labels=y, scope='loss_two')\n",
    "\n",
    "lr = 1\n",
    "\n",
    "optimizer = tf.train.GradientDescentOptimizer(learning_rate=lr)\n",
    "train_op = optimizer.minimize(loss=loss_two, var_list=[w1, w2, b1, b2])"
   ]
  },
  {
   "cell_type": "markdown",
   "metadata": {},
   "source": [
    "### 模型的保存\n",
    "在我们开始训练之前, 我们先思考一下, 在之前的过程中, 当模型的参数经过训练之后, 模型的效果得以显示, 而模型的参数却没有得到保存, 那么下次我们希望得到一个比较好的结果的时候, 又必须得重新训练, 这是令人难以接受的.\n",
    "因此, 我们需要将模型保存到本地, 并且需要一种正确的方式将模型读入到内存中来.\n",
    "\n",
    "`Tensorflow`提供了`tf.train.Saver`类来管理模型的保存与加载"
   ]
  },
  {
   "cell_type": "code",
   "execution_count": null,
   "metadata": {},
   "outputs": [],
   "source": [
    "saver = tf.train.Saver()"
   ]
  },
  {
   "cell_type": "markdown",
   "metadata": {},
   "source": [
    "接着, 在我们训练的过程中, 随时可以调用`saver`的`save`函数去保存中间过程的参数, 它会把模型存放在`.ckpt`文件中\n",
    "\n",
    "下面我们试着对这个模型训练10000次, 并且在第5000步以及最后一步各保存一次模型"
   ]
  },
  {
   "cell_type": "code",
   "execution_count": null,
   "metadata": {},
   "outputs": [],
   "source": [
    "# 我们训练10000次\n",
    "\n",
    "sess.run(tf.global_variables_initializer())\n",
    "\n",
    "for e in range(10000):\n",
    "    sess.run(train_op)\n",
    "    if (e + 1) % 1000 == 0:\n",
    "        loss_numpy = loss_two.eval(session=sess)\n",
    "        print('Epoch {}: Loss: {}'.format(e + 1, loss_numpy))\n",
    "    if (e + 1) % 5000 == 0:\n",
    "        # `sess`参数表示开启模型的`session`, 必选参数\n",
    "        # `save_path`参数表示模型保存的路径, 必须要以`.ckpt`结尾\n",
    "        # `global_step`参数表示模型当前训练的步数, 可以用来标记不同阶段的模型\n",
    "        saver.save(sess=sess, save_path='First_Save/model.ckpt', global_step=(e + 1))"
   ]
  },
  {
   "cell_type": "markdown",
   "metadata": {},
   "source": [
    "现在, 进入到`First_Save`目录中, 应该会看到下面这些内容:\n",
    "```\n",
    "First_Save/\n",
    "├── checkpoint\n",
    "├── model.ckpt-10000.data-00000-of-00001\n",
    "├── model.ckpt-10000.index\n",
    "├── model.ckpt-10000.meta\n",
    "├── model.ckpt-5000.data-00000-of-00001\n",
    "├── model.ckpt-5000.index\n",
    "└── model.ckpt-5000.meta\n",
    "```\n",
    "\n",
    "可以看到, `model.ckpt-5000`和`model.ckpt-10000`都是保存好的模型, 而他们又都有`.data-00000-of-00001`, `.meta`和`.index`三个文件. 这是由于`tensorflow`在保存的过程中同时保存了模型的定义和模型参数的值, 然后又分开不同的文件存放, 以后我们会具体谈到如何应用这三个文件, 暂时我们只需要理解`model.ckpt-***`就是我们保存好的模型就行了"
   ]
  },
  {
   "cell_type": "markdown",
   "metadata": {},
   "source": [
    "训练完成之后, 我们先看一下模型训练的效果如何"
   ]
  },
  {
   "cell_type": "code",
   "execution_count": null,
   "metadata": {},
   "outputs": [],
   "source": [
    "nn_out = two_network(model_input)\n",
    "\n",
    "def plot_network(input_data):\n",
    "    y_pred_numpy = sess.run(nn_out, feed_dict={model_input: input_data})\n",
    "    out = np.greater(y_pred_numpy, 0.5).astype(np.float32)\n",
    "    return np.squeeze(out)"
   ]
  },
  {
   "cell_type": "code",
   "execution_count": null,
   "metadata": {},
   "outputs": [],
   "source": [
    "plot_decision_boundary(plot_network, x.eval(session=sess), y.eval(session=sess))\n",
    "plt.title('2 layer network')"
   ]
  },
  {
   "cell_type": "markdown",
   "metadata": {},
   "source": [
    "可以看到, 2层神经网络的效果明显优于`logistic`回归的效果.\n",
    "\n",
    "那么接下来我们再看看如何从本地导入模型以及参数"
   ]
  },
  {
   "cell_type": "code",
   "execution_count": null,
   "metadata": {},
   "outputs": [],
   "source": [
    "# 首先关闭当前会话\n",
    "sess.close()"
   ]
  },
  {
   "cell_type": "markdown",
   "metadata": {},
   "source": [
    "现在重新打开一个session, 会如何呢?"
   ]
  },
  {
   "cell_type": "code",
   "execution_count": null,
   "metadata": {
    "scrolled": true
   },
   "outputs": [],
   "source": [
    "sess = tf.InteractiveSession()\n",
    "\n",
    "# 用try语句打印一下`w1`的值\n",
    "try:\n",
    "    print(w1.eval(session=sess))\n",
    "except tf.errors.FailedPreconditionError, e:\n",
    "    print(e.message)"
   ]
  },
  {
   "cell_type": "markdown",
   "metadata": {},
   "source": [
    "对, 没错, 恭喜你遇到了本教程中第一个报错. 但是没有补偿, 因为我们确实没有初始化参数的值. 但是, 如果我们用`tf.global_variables_initializer()`这一类函数去初始化的话, 之前训练好的模型参数就是无用功了, 这种事情当然可以避免了"
   ]
  },
  {
   "cell_type": "markdown",
   "metadata": {},
   "source": [
    "### 模型的恢复\n",
    "加载模型也叫做模型的恢复, 包括两个阶段\n",
    "- 首先, 恢复模型的结构\n",
    "- 再恢复模型的参数值"
   ]
  },
  {
   "cell_type": "code",
   "execution_count": null,
   "metadata": {},
   "outputs": [],
   "source": [
    "# 恢复模型结构\n",
    "saver = tf.train.import_meta_graph('First_Save/model.ckpt-10000.meta')\n",
    "\n",
    "# 恢复模型参数\n",
    "saver.restore(sess, 'First_Save/model.ckpt-10000')"
   ]
  },
  {
   "cell_type": "code",
   "execution_count": null,
   "metadata": {},
   "outputs": [],
   "source": [
    "# 打印一下`w1`的值\n",
    "print(w1.eval(session=sess))"
   ]
  },
  {
   "cell_type": "code",
   "execution_count": null,
   "metadata": {},
   "outputs": [],
   "source": [
    "# 重新可视化一下分类结果\n",
    "plot_decision_boundary(plot_network, x.eval(session=sess), y.eval(session=sess))\n",
    "plt.title('2 layer network')"
   ]
  },
  {
   "cell_type": "markdown",
   "metadata": {},
   "source": [
    "好了, 我们终于实现了模型的加载, 终于可以放心的存取模型了!"
   ]
  },
  {
   "cell_type": "markdown",
   "metadata": {},
   "source": [
    "### 练习\n",
    "试着用5层神经网络,改变学习率,增加训练次数, 看看它的效果"
   ]
  },
  {
   "cell_type": "markdown",
   "metadata": {},
   "source": [
    "### 参考答案"
   ]
  },
  {
   "cell_type": "code",
   "execution_count": null,
   "metadata": {},
   "outputs": [],
   "source": [
    "def hidden_layer(layer_input, output_depth, scope='hidden_layer', reuse=None):\n",
    "    # 探索一下这里面的`reuse`参数有什么用\n",
    "    # 在后面的课程中会讲到\n",
    "    input_depth = layer_input.get_shape()[-1]\n",
    "    with tf.variable_scope(scope, reuse=reuse):\n",
    "        w = tf.get_variable(initializer=tf.random_normal_initializer(), shape=(input_depth, output_depth), name='weights')\n",
    "        b = tf.get_variable(initializer=tf.zeros_initializer(), shape=(output_depth), name='bias')\n",
    "        net = tf.matmul(layer_input, w) + b\n",
    "        \n",
    "        return net\n",
    "\n",
    "def DNN(x, output_depths, scope='DNN', reuse=None):\n",
    "    net = x\n",
    "    for i, output_depth in enumerate(output_depths):\n",
    "        net = hidden_layer(net, output_depth, scope='layer%d' % i, reuse=reuse)\n",
    "        net = tf.tanh(net)\n",
    "    net = hidden_layer(net, 1, scope='classification', reuse=reuse)\n",
    "    net = tf.sigmoid(net)\n",
    "    \n",
    "    return net"
   ]
  },
  {
   "cell_type": "code",
   "execution_count": null,
   "metadata": {},
   "outputs": [],
   "source": [
    "dnn = DNN(x, [10, 10, 10])"
   ]
  },
  {
   "cell_type": "code",
   "execution_count": null,
   "metadata": {},
   "outputs": [],
   "source": [
    "loss_dnn = tf.losses.log_loss(predictions=dnn, labels=y)\n",
    "\n",
    "lr = 0.1\n",
    "optimizer = tf.train.GradientDescentOptimizer(learning_rate=lr)\n",
    "train_op = optimizer.minimize(loss_dnn)"
   ]
  },
  {
   "cell_type": "code",
   "execution_count": null,
   "metadata": {
    "scrolled": true
   },
   "outputs": [],
   "source": [
    "# 我们训练10000次\n",
    "\n",
    "sess.run(tf.global_variables_initializer())\n",
    "\n",
    "for e in range(20000):\n",
    "    sess.run(train_op)\n",
    "    if (e + 1) % 1000 == 0:\n",
    "        loss_numpy = loss_dnn.eval(session=sess)\n",
    "        print('Epoch {}: Loss: {}'.format(e + 1, loss_numpy))"
   ]
  },
  {
   "cell_type": "code",
   "execution_count": null,
   "metadata": {},
   "outputs": [],
   "source": [
    "dnn_out = DNN(model_input, [10, 10, 10], reuse=True)\n",
    "\n",
    "def plot_dnn(input_data):\n",
    "    y_pred_numpy = sess.run(dnn_out, feed_dict={model_input: input_data})\n",
    "    out = np.greater(y_pred_numpy, 0.5).astype(np.float32)\n",
    "    return np.squeeze(out)"
   ]
  },
  {
   "cell_type": "code",
   "execution_count": null,
   "metadata": {},
   "outputs": [],
   "source": [
    "# 重新可视化一下分类结果\n",
    "plot_decision_boundary(plot_dnn, x.eval(session=sess), y.eval(session=sess))\n",
    "plt.title('4 layer network')"
   ]
  },
  {
   "cell_type": "markdown",
   "metadata": {},
   "source": [
    "### 结语\n",
    "回顾一下, 这次课我们主要讲述了深度神经网络的基本原理以及`tensorflow`中如何实现模型的保存与加载, 在下一次课中, 我们将会介绍如何使用更深的神经网络来解决更复杂的分类问题"
   ]
  }
 ],
 "metadata": {
  "kernelspec": {
   "display_name": "Python 2",
   "language": "python",
   "name": "python2"
  },
  "language_info": {
   "codemirror_mode": {
    "name": "ipython",
    "version": 2
   },
   "file_extension": ".py",
   "mimetype": "text/x-python",
   "name": "python",
   "nbconvert_exporter": "python",
   "pygments_lexer": "ipython2",
   "version": "2.7.12"
  }
 },
 "nbformat": 4,
 "nbformat_minor": 2
}
